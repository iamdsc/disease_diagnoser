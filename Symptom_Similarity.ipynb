{
  "nbformat": 4,
  "nbformat_minor": 0,
  "metadata": {
    "colab": {
      "name": "Symptom_Similarity.ipynb",
      "provenance": [],
      "authorship_tag": "ABX9TyPFnx2XCE2F9bgP0RhcX50W",
      "include_colab_link": true
    },
    "kernelspec": {
      "name": "python3",
      "display_name": "Python 3"
    },
    "accelerator": "GPU"
  },
  "cells": [
    {
      "cell_type": "markdown",
      "metadata": {
        "id": "view-in-github",
        "colab_type": "text"
      },
      "source": [
        "<a href=\"https://colab.research.google.com/github/iamdsc/disease_diagnoser/blob/master/Symptom_Similarity.ipynb\" target=\"_parent\"><img src=\"https://colab.research.google.com/assets/colab-badge.svg\" alt=\"Open In Colab\"/></a>"
      ]
    },
    {
      "cell_type": "code",
      "metadata": {
        "id": "_Q_S5lCdHv41",
        "colab_type": "code",
        "colab": {
          "base_uri": "https://localhost:8080/",
          "height": 34
        },
        "outputId": "d18735ef-d5e5-4159-b97a-a801d9796e65"
      },
      "source": [
        "from google.colab import drive\n",
        "drive.mount('/content/drive')"
      ],
      "execution_count": 1,
      "outputs": [
        {
          "output_type": "stream",
          "text": [
            "Drive already mounted at /content/drive; to attempt to forcibly remount, call drive.mount(\"/content/drive\", force_remount=True).\n"
          ],
          "name": "stdout"
        }
      ]
    },
    {
      "cell_type": "code",
      "metadata": {
        "id": "vWt918cYnWLF",
        "colab_type": "code",
        "colab": {}
      },
      "source": [
        "import pandas as pd\n",
        "import numpy as np\n",
        "import re\n",
        "import random\n",
        "import operator\n",
        "\n",
        "def read_glove_vecs(file):\n",
        "    with open(file, 'r', encoding='utf-8') as f:\n",
        "        words = set()\n",
        "        word_to_vec_map = {}\n",
        "        for line in f:\n",
        "            line = line.strip().split()\n",
        "            word = line[0]\n",
        "            words.add(word)\n",
        "            word_to_vec_map[word] = np.array(line[1:],dtype=np.float64)\n",
        "    return words, word_to_vec_map\n",
        "\n",
        "words, word_to_vec_map = read_glove_vecs(\"drive/My Drive/glove.6B.50d.txt\")"
      ],
      "execution_count": 0,
      "outputs": []
    },
    {
      "cell_type": "code",
      "metadata": {
        "id": "ztVZMdYyoTbP",
        "colab_type": "code",
        "colab": {}
      },
      "source": [
        "def cosine_similarity(x, y):\n",
        "    dot = np.dot(x,y)\n",
        "    norm_x = np.sqrt(np.sum(x**2))\n",
        "    norm_y = np.sqrt(np.sum(y**2))\n",
        "    cosine_similarity = dot/(norm_x * norm_y)\n",
        "    return cosine_similarity"
      ],
      "execution_count": 0,
      "outputs": []
    },
    {
      "cell_type": "code",
      "metadata": {
        "id": "pUOoUmVooXoL",
        "colab_type": "code",
        "colab": {}
      },
      "source": [
        "df = pd.read_excel('raw_data.xlsx').drop('Count of Disease Occurrence', axis=1).fillna(method='ffill')"
      ],
      "execution_count": 0,
      "outputs": []
    },
    {
      "cell_type": "markdown",
      "metadata": {
        "id": "2VrIa9CEIpgq",
        "colab_type": "text"
      },
      "source": [
        "### Pre-processing the data to required format"
      ]
    },
    {
      "cell_type": "code",
      "metadata": {
        "id": "n2zzWXWwIlx0",
        "colab_type": "code",
        "colab": {}
      },
      "source": [
        "df.Symptom = df.Symptom.map(lambda x: re.sub('^.*_','',x))\n",
        "df.Disease = df.Disease.map(lambda x: re.sub('^.*_','',x))\n",
        "\n",
        "df.Symptom = df.Symptom.map(lambda x: x.lower())\n",
        "df.Disease = df.Disease.map(lambda x: x.lower())\n",
        "\n",
        "# makes words like 'pain/swelling' into 'pain swelling'\n",
        "df.Symptom = df.Symptom.map(lambda x: re.sub('(.*)\\/(.*)', r'\\1 \\2', x))\n",
        "df.Disease = df.Disease.map(lambda x: re.sub('(.*)\\/(.*)', r'\\1 \\2', x))\n",
        "\n",
        "# gets rid of parenthesised words\n",
        "df.Symptom = df.Symptom.map(lambda x: re.sub('(.*)\\(.*\\)(.*)', r'\\1\\2', x))\n",
        "df.Disease = df.Disease.map(lambda x: re.sub('(.*)\\(.*\\)(.*)', r'\\1\\2', x))\n",
        "\n",
        "# gets rid of apostrophes and tokens of the sort '\\xa0'\n",
        "df.Symptom = df.Symptom.map(lambda x: re.sub('\\'', '', x))\n",
        "df.Disease = df.Disease.map(lambda x: re.sub('\\'', '', x))\n",
        "df.Disease = df.Disease.map(lambda x: re.sub('\\\\xa0', ' ', x))"
      ],
      "execution_count": 0,
      "outputs": []
    },
    {
      "cell_type": "code",
      "metadata": {
        "id": "iCEnSFt-IzCg",
        "colab_type": "code",
        "colab": {
          "base_uri": "https://localhost:8080/",
          "height": 204
        },
        "outputId": "73b79cdc-7947-4d05-b778-8e8c111cac1d"
      },
      "source": [
        "df.head()"
      ],
      "execution_count": 6,
      "outputs": [
        {
          "output_type": "execute_result",
          "data": {
            "text/html": [
              "<div>\n",
              "<style scoped>\n",
              "    .dataframe tbody tr th:only-of-type {\n",
              "        vertical-align: middle;\n",
              "    }\n",
              "\n",
              "    .dataframe tbody tr th {\n",
              "        vertical-align: top;\n",
              "    }\n",
              "\n",
              "    .dataframe thead th {\n",
              "        text-align: right;\n",
              "    }\n",
              "</style>\n",
              "<table border=\"1\" class=\"dataframe\">\n",
              "  <thead>\n",
              "    <tr style=\"text-align: right;\">\n",
              "      <th></th>\n",
              "      <th>Disease</th>\n",
              "      <th>Symptom</th>\n",
              "    </tr>\n",
              "  </thead>\n",
              "  <tbody>\n",
              "    <tr>\n",
              "      <th>0</th>\n",
              "      <td>hypertensive disease</td>\n",
              "      <td>pain chest</td>\n",
              "    </tr>\n",
              "    <tr>\n",
              "      <th>1</th>\n",
              "      <td>hypertensive disease</td>\n",
              "      <td>shortness of breath</td>\n",
              "    </tr>\n",
              "    <tr>\n",
              "      <th>2</th>\n",
              "      <td>hypertensive disease</td>\n",
              "      <td>dizziness</td>\n",
              "    </tr>\n",
              "    <tr>\n",
              "      <th>3</th>\n",
              "      <td>hypertensive disease</td>\n",
              "      <td>asthenia</td>\n",
              "    </tr>\n",
              "    <tr>\n",
              "      <th>4</th>\n",
              "      <td>hypertensive disease</td>\n",
              "      <td>fall</td>\n",
              "    </tr>\n",
              "  </tbody>\n",
              "</table>\n",
              "</div>"
            ],
            "text/plain": [
              "                Disease              Symptom\n",
              "0  hypertensive disease           pain chest\n",
              "1  hypertensive disease  shortness of breath\n",
              "2  hypertensive disease            dizziness\n",
              "3  hypertensive disease             asthenia\n",
              "4  hypertensive disease                 fall"
            ]
          },
          "metadata": {
            "tags": []
          },
          "execution_count": 6
        }
      ]
    },
    {
      "cell_type": "code",
      "metadata": {
        "id": "18gwt1qAI2_3",
        "colab_type": "code",
        "colab": {
          "base_uri": "https://localhost:8080/",
          "height": 221
        },
        "outputId": "b820f24b-77b6-4aee-afb5-65dc54fac47e"
      },
      "source": [
        "#words in dataset that don't have a glove representation\n",
        "#are being removed\n",
        "counts = {}\n",
        "def remove(x):\n",
        "    for i in x.split():\n",
        "        if not i in word_to_vec_map.keys():\n",
        "            counts[i] = counts.get(i,0)+1\n",
        "\n",
        "df.Symptom.map(lambda x:remove(x))\n",
        "df.Disease.map(lambda x:remove(x))"
      ],
      "execution_count": 7,
      "outputs": [
        {
          "output_type": "execute_result",
          "data": {
            "text/plain": [
              "0       None\n",
              "1       None\n",
              "2       None\n",
              "3       None\n",
              "4       None\n",
              "        ... \n",
              "1861    None\n",
              "1862    None\n",
              "1863    None\n",
              "1864    None\n",
              "1865    None\n",
              "Name: Disease, Length: 1866, dtype: object"
            ]
          },
          "metadata": {
            "tags": []
          },
          "execution_count": 7
        }
      ]
    },
    {
      "cell_type": "code",
      "metadata": {
        "id": "8YQZoKIJI8Kc",
        "colab_type": "code",
        "colab": {}
      },
      "source": [
        "#keeping unrepresented words in seperate dataframe\n",
        "unrepresented_words = pd.DataFrame()\n",
        "unrepresented_words['Words'] = counts.keys()\n",
        "unrepresented_words['No. of Occurences'] = counts.values()\n",
        "unrepresented_words.to_csv('Unrepresented_Words.csv')"
      ],
      "execution_count": 0,
      "outputs": []
    },
    {
      "cell_type": "markdown",
      "metadata": {
        "id": "0T8ALZEMJB3Z",
        "colab_type": "text"
      },
      "source": [
        "### Reorganize the dataframe by grouping data by symptoms"
      ]
    },
    {
      "cell_type": "code",
      "metadata": {
        "id": "vWAbMCCgI_vj",
        "colab_type": "code",
        "colab": {
          "base_uri": "https://localhost:8080/",
          "height": 450
        },
        "outputId": "764fd3ec-c1d0-42bf-e135-5c0db22f0cec"
      },
      "source": [
        "frame = pd.DataFrame(df.groupby(['Symptom','Disease']).size()).drop(0,axis=1)\n",
        "frame = frame.iloc[1:]\n",
        "frame = frame.reset_index().set_index('Symptom')\n",
        "frame"
      ],
      "execution_count": 9,
      "outputs": [
        {
          "output_type": "execute_result",
          "data": {
            "text/html": [
              "<div>\n",
              "<style scoped>\n",
              "    .dataframe tbody tr th:only-of-type {\n",
              "        vertical-align: middle;\n",
              "    }\n",
              "\n",
              "    .dataframe tbody tr th {\n",
              "        vertical-align: top;\n",
              "    }\n",
              "\n",
              "    .dataframe thead th {\n",
              "        text-align: right;\n",
              "    }\n",
              "</style>\n",
              "<table border=\"1\" class=\"dataframe\">\n",
              "  <thead>\n",
              "    <tr style=\"text-align: right;\">\n",
              "      <th></th>\n",
              "      <th>Disease</th>\n",
              "    </tr>\n",
              "    <tr>\n",
              "      <th>Symptom</th>\n",
              "      <th></th>\n",
              "    </tr>\n",
              "  </thead>\n",
              "  <tbody>\n",
              "    <tr>\n",
              "      <th>abdomen acute</th>\n",
              "      <td>ileus</td>\n",
              "    </tr>\n",
              "    <tr>\n",
              "      <th>abdominal bloating</th>\n",
              "      <td>oralcandidiasis</td>\n",
              "    </tr>\n",
              "    <tr>\n",
              "      <th>abdominal tenderness</th>\n",
              "      <td>bacteremia</td>\n",
              "    </tr>\n",
              "    <tr>\n",
              "      <th>abdominal tenderness</th>\n",
              "      <td>dementia</td>\n",
              "    </tr>\n",
              "    <tr>\n",
              "      <th>abdominal tenderness</th>\n",
              "      <td>diverticulitis</td>\n",
              "    </tr>\n",
              "    <tr>\n",
              "      <th>...</th>\n",
              "      <td>...</td>\n",
              "    </tr>\n",
              "    <tr>\n",
              "      <th>yellow sputum</th>\n",
              "      <td>chronic kidney failure</td>\n",
              "    </tr>\n",
              "    <tr>\n",
              "      <th>yellow sputum</th>\n",
              "      <td>embolism pulmonary</td>\n",
              "    </tr>\n",
              "    <tr>\n",
              "      <th>yellow sputum</th>\n",
              "      <td>hepatitis b</td>\n",
              "    </tr>\n",
              "    <tr>\n",
              "      <th>yellow sputum</th>\n",
              "      <td>pneumocystis carinii pneumonia</td>\n",
              "    </tr>\n",
              "    <tr>\n",
              "      <th>yellow sputum</th>\n",
              "      <td>pneumonia</td>\n",
              "    </tr>\n",
              "  </tbody>\n",
              "</table>\n",
              "<p>1857 rows × 1 columns</p>\n",
              "</div>"
            ],
            "text/plain": [
              "                                             Disease\n",
              "Symptom                                             \n",
              "abdomen acute                                  ileus\n",
              "abdominal bloating                   oralcandidiasis\n",
              "abdominal tenderness                      bacteremia\n",
              "abdominal tenderness                        dementia\n",
              "abdominal tenderness                  diverticulitis\n",
              "...                                              ...\n",
              "yellow sputum                 chronic kidney failure\n",
              "yellow sputum                     embolism pulmonary\n",
              "yellow sputum                            hepatitis b\n",
              "yellow sputum         pneumocystis carinii pneumonia\n",
              "yellow sputum                              pneumonia\n",
              "\n",
              "[1857 rows x 1 columns]"
            ]
          },
          "metadata": {
            "tags": []
          },
          "execution_count": 9
        }
      ]
    },
    {
      "cell_type": "code",
      "metadata": {
        "id": "_q3CmACBJKJq",
        "colab_type": "code",
        "colab": {}
      },
      "source": [
        "#get how many times symptoms occur in dataset\n",
        "counts = {}\n",
        "for i in frame.index:\n",
        "    counts[i] = counts.get(i, 0) + 1\n",
        "#print(counts)"
      ],
      "execution_count": 0,
      "outputs": []
    },
    {
      "cell_type": "code",
      "metadata": {
        "id": "8efQdgePJQH3",
        "colab_type": "code",
        "colab": {}
      },
      "source": [
        "# Sorting symptoms by count and saving into dataframe\n",
        "sym, ct = zip(*sorted(counts.items(), key=operator.itemgetter(1), reverse=True))\n",
        "sym_count = pd.DataFrame()\n",
        "sym_count['Symptom'] = sym\n",
        "sym_count['Count'] = ct\n",
        "sym_count.to_csv('Symptom_Counts.csv')"
      ],
      "execution_count": 0,
      "outputs": []
    },
    {
      "cell_type": "code",
      "metadata": {
        "id": "GTEfajbYJWhO",
        "colab_type": "code",
        "colab": {}
      },
      "source": [
        "# drop symptoms with fewer than 6 entries in the dataset\n",
        "for i in frame.index:\n",
        "    if counts[i] < 6:\n",
        "        #print(i)\n",
        "        try:\n",
        "            frame.drop(i, inplace=True)\n",
        "        except:\n",
        "            pass"
      ],
      "execution_count": 0,
      "outputs": []
    },
    {
      "cell_type": "code",
      "metadata": {
        "id": "o_IFKLl5JhAI",
        "colab_type": "code",
        "colab": {
          "base_uri": "https://localhost:8080/",
          "height": 238
        },
        "outputId": "dd18ede3-65d5-4f8b-923d-30e6b7aa9729"
      },
      "source": [
        "# putting all diseases in dataset into a list\n",
        "lst = []\n",
        "frame.Disease.map(lambda x:lst.append(x))\n",
        "#print(lst)"
      ],
      "execution_count": 13,
      "outputs": [
        {
          "output_type": "execute_result",
          "data": {
            "text/plain": [
              "Symptom\n",
              "abdominal tenderness    None\n",
              "abdominal tenderness    None\n",
              "abdominal tenderness    None\n",
              "abdominal tenderness    None\n",
              "abdominal tenderness    None\n",
              "                        ... \n",
              "yellow sputum           None\n",
              "yellow sputum           None\n",
              "yellow sputum           None\n",
              "yellow sputum           None\n",
              "yellow sputum           None\n",
              "Name: Disease, Length: 1200, dtype: object"
            ]
          },
          "metadata": {
            "tags": []
          },
          "execution_count": 13
        }
      ]
    },
    {
      "cell_type": "code",
      "metadata": {
        "id": "iQcMs5wJJn5N",
        "colab_type": "code",
        "colab": {}
      },
      "source": [
        "\"\"\"\n",
        "To train our own word embeddings on top of the existing GloVe model,\n",
        "we will use a skipgram model. Each symptom has a disease associated with it,\n",
        "and we use this as the (target word, context word) pair for skipgram generation.\n",
        "We make a list that stores the pair and its corresponding label of 1, if the\n",
        "disease is indeed associated with the symptom, and 0 otherwise.\n",
        "\"\"\"\n",
        "couples_and_labels = []\n",
        "\n",
        "for i in frame.index.unique():\n",
        "    # list of context words\n",
        "    a = list(frame.Disease.loc[i].values)\n",
        "    for j in a:\n",
        "        # randomly choosing non-context words\n",
        "        non_context = random.choice(list(set(lst)^set(a)))\n",
        "        # assigning labels\n",
        "        couples_and_labels.append((i,j,1))\n",
        "        couples_and_labels.append((i,non_context,0))"
      ],
      "execution_count": 0,
      "outputs": []
    },
    {
      "cell_type": "code",
      "metadata": {
        "id": "_w5RDQJyJwyj",
        "colab_type": "code",
        "colab": {}
      },
      "source": [
        "# shuffling the values\n",
        "b = random.sample(couples_and_labels, len(couples_and_labels))\n",
        "symptom, disease, label = zip(*b)"
      ],
      "execution_count": 0,
      "outputs": []
    },
    {
      "cell_type": "code",
      "metadata": {
        "id": "I0wQQLd0J0ct",
        "colab_type": "code",
        "colab": {
          "base_uri": "https://localhost:8080/",
          "height": 51
        },
        "outputId": "b79d0325-c7f4-4bd9-e6e6-d276b6038de8"
      },
      "source": [
        "# assigning a number to each symptom and disease to be fed in keras\n",
        "s1 = pd.Series(list(symptom))\n",
        "s2 = pd.Series(list(disease))\n",
        "dic = {}\n",
        "for i,j in enumerate(s1.append(s2).unique()):\n",
        "    dic[j] = i\n",
        "symptoms = np.array(s1.map(dic), dtype='int32')\n",
        "diseases = np.array(s2.map(dic), dtype='int32')\n",
        "print(symptoms)\n",
        "print(diseases)"
      ],
      "execution_count": 16,
      "outputs": [
        {
          "output_type": "stream",
          "text": [
            "[ 0  1  2 ... 49  5 10]\n",
            "[100 101 102 ... 131 133 126]\n"
          ],
          "name": "stdout"
        }
      ]
    },
    {
      "cell_type": "code",
      "metadata": {
        "id": "75pO_8twJ3mC",
        "colab_type": "code",
        "colab": {}
      },
      "source": [
        "# converting labels too into an array\n",
        "labels = np.array(label, dtype='int32')"
      ],
      "execution_count": 0,
      "outputs": []
    },
    {
      "cell_type": "code",
      "metadata": {
        "id": "brRGk4n0J-ck",
        "colab_type": "code",
        "colab": {
          "base_uri": "https://localhost:8080/",
          "height": 255
        },
        "outputId": "6ea5e9b9-60a2-4a64-d0dc-e7987f8dbbba"
      },
      "source": [
        "# creating new embedding matrix\n",
        "lst = []\n",
        "\n",
        "# size of vocabulary ie no. of unique words in corpus\n",
        "vocab_size = len(dic)\n",
        "\n",
        "# dimension of word embeddings\n",
        "vector_dim = 50\n",
        "\n",
        "# create an array of zeros of shape (vocab_size, vector_dim)\n",
        "embedding_matrix = np.zeros((len(dic),50))\n",
        "\n",
        "for word, index in dic.items():\n",
        "    for i in word.split():\n",
        "        try:\n",
        "            lst.append(word_to_vec_map[i])\n",
        "        except:\n",
        "            print(i)\n",
        "    arr = np.array(lst)\n",
        "    arrsum = arr.sum(axis=0)\n",
        "    arrsum = arrsum/np.sqrt((arrsum**2).sum())\n",
        "    embedding_matrix[index,:] = arrsum"
      ],
      "execution_count": 18,
      "outputs": [
        {
          "output_type": "stream",
          "text": [
            "transaminitis\n",
            "orthopnea\n",
            "rhonchus\n",
            "prostatism\n",
            "apyrexial\n",
            "hemodynamically\n",
            "hypokinesia\n",
            "pleuritic\n",
            "weepiness\n",
            "thrombocytopaenia\n",
            "deglutition\n",
            "oralcandidiasis\n",
            "exanthema\n",
            "decubitus\n"
          ],
          "name": "stdout"
        }
      ]
    },
    {
      "cell_type": "code",
      "metadata": {
        "id": "aMOE_AfLKETx",
        "colab_type": "code",
        "colab": {
          "base_uri": "https://localhost:8080/",
          "height": 406
        },
        "outputId": "a5310f26-1b16-4530-aa5e-cc8b8fa1394d"
      },
      "source": [
        "# Training skipgram model\n",
        "from keras.preprocessing import sequence\n",
        "from keras.layers import Input, Dot, Reshape, Dense, Embedding\n",
        "from keras.models import Model\n",
        "\n",
        "input_target = Input((1,))\n",
        "input_context = Input((1,))\n",
        "\n",
        "embedding = Embedding(input_dim=vocab_size, output_dim=vector_dim,\n",
        "                      input_length=1, name='embedding', trainable=True)\n",
        "\n",
        "# loading pretrained embeddings\n",
        "embedding.build((None,))\n",
        "embedding.set_weights([embedding_matrix])\n",
        "\n",
        "context = embedding(input_context)\n",
        "context = Reshape((vector_dim, 1))(context)\n",
        "\n",
        "target = embedding(input_target)\n",
        "target = Reshape((vector_dim, 1))(target)\n",
        "\n",
        "dot = Dot(axes=1)([context, target])\n",
        "dot = Reshape((1,))(dot)\n",
        "\n",
        "out = Dense(1, activation='sigmoid')(dot)"
      ],
      "execution_count": 19,
      "outputs": [
        {
          "output_type": "stream",
          "text": [
            "Using TensorFlow backend.\n"
          ],
          "name": "stderr"
        },
        {
          "output_type": "display_data",
          "data": {
            "text/html": [
              "<p style=\"color: red;\">\n",
              "The default version of TensorFlow in Colab will soon switch to TensorFlow 2.x.<br>\n",
              "We recommend you <a href=\"https://www.tensorflow.org/guide/migrate\" target=\"_blank\">upgrade</a> now \n",
              "or ensure your notebook will continue to use TensorFlow 1.x via the <code>%tensorflow_version 1.x</code> magic:\n",
              "<a href=\"https://colab.research.google.com/notebooks/tensorflow_version.ipynb\" target=\"_blank\">more info</a>.</p>\n"
            ],
            "text/plain": [
              "<IPython.core.display.HTML object>"
            ]
          },
          "metadata": {
            "tags": []
          }
        },
        {
          "output_type": "stream",
          "text": [
            "WARNING:tensorflow:From /usr/local/lib/python3.6/dist-packages/keras/backend/tensorflow_backend.py:66: The name tf.get_default_graph is deprecated. Please use tf.compat.v1.get_default_graph instead.\n",
            "\n",
            "WARNING:tensorflow:From /usr/local/lib/python3.6/dist-packages/keras/backend/tensorflow_backend.py:541: The name tf.placeholder is deprecated. Please use tf.compat.v1.placeholder instead.\n",
            "\n",
            "WARNING:tensorflow:From /usr/local/lib/python3.6/dist-packages/keras/backend/tensorflow_backend.py:4432: The name tf.random_uniform is deprecated. Please use tf.random.uniform instead.\n",
            "\n",
            "WARNING:tensorflow:From /usr/local/lib/python3.6/dist-packages/keras/backend/tensorflow_backend.py:190: The name tf.get_default_session is deprecated. Please use tf.compat.v1.get_default_session instead.\n",
            "\n",
            "WARNING:tensorflow:From /usr/local/lib/python3.6/dist-packages/keras/backend/tensorflow_backend.py:197: The name tf.ConfigProto is deprecated. Please use tf.compat.v1.ConfigProto instead.\n",
            "\n",
            "WARNING:tensorflow:From /usr/local/lib/python3.6/dist-packages/keras/backend/tensorflow_backend.py:203: The name tf.Session is deprecated. Please use tf.compat.v1.Session instead.\n",
            "\n",
            "WARNING:tensorflow:From /usr/local/lib/python3.6/dist-packages/keras/backend/tensorflow_backend.py:207: The name tf.global_variables is deprecated. Please use tf.compat.v1.global_variables instead.\n",
            "\n",
            "WARNING:tensorflow:From /usr/local/lib/python3.6/dist-packages/keras/backend/tensorflow_backend.py:216: The name tf.is_variable_initialized is deprecated. Please use tf.compat.v1.is_variable_initialized instead.\n",
            "\n",
            "WARNING:tensorflow:From /usr/local/lib/python3.6/dist-packages/keras/backend/tensorflow_backend.py:223: The name tf.variables_initializer is deprecated. Please use tf.compat.v1.variables_initializer instead.\n",
            "\n"
          ],
          "name": "stdout"
        }
      ]
    },
    {
      "cell_type": "code",
      "metadata": {
        "id": "ONj3cifTKPCE",
        "colab_type": "code",
        "colab": {
          "base_uri": "https://localhost:8080/",
          "height": 513
        },
        "outputId": "094f7c11-5522-414b-b7f5-0dcffa5f853e"
      },
      "source": [
        "# create model instance\n",
        "model = Model(input = [input_context, input_target], output = out)\n",
        "model.compile(loss = 'binary_crossentropy', optimizer = 'adam', metrics=['acc'])\n",
        "model.summary()"
      ],
      "execution_count": 26,
      "outputs": [
        {
          "output_type": "stream",
          "text": [
            "Model: \"model_3\"\n",
            "__________________________________________________________________________________________________\n",
            "Layer (type)                    Output Shape         Param #     Connected to                     \n",
            "==================================================================================================\n",
            "input_2 (InputLayer)            (None, 1)            0                                            \n",
            "__________________________________________________________________________________________________\n",
            "input_1 (InputLayer)            (None, 1)            0                                            \n",
            "__________________________________________________________________________________________________\n",
            "embedding (Embedding)           (None, 1, 50)        11700       input_2[0][0]                    \n",
            "                                                                 input_1[0][0]                    \n",
            "__________________________________________________________________________________________________\n",
            "reshape_1 (Reshape)             (None, 50, 1)        0           embedding[0][0]                  \n",
            "__________________________________________________________________________________________________\n",
            "reshape_2 (Reshape)             (None, 50, 1)        0           embedding[1][0]                  \n",
            "__________________________________________________________________________________________________\n",
            "dot_1 (Dot)                     (None, 1, 1)         0           reshape_1[0][0]                  \n",
            "                                                                 reshape_2[0][0]                  \n",
            "__________________________________________________________________________________________________\n",
            "reshape_3 (Reshape)             (None, 1)            0           dot_1[0][0]                      \n",
            "__________________________________________________________________________________________________\n",
            "dense_1 (Dense)                 (None, 1)            2           reshape_3[0][0]                  \n",
            "==================================================================================================\n",
            "Total params: 11,702\n",
            "Trainable params: 11,702\n",
            "Non-trainable params: 0\n",
            "__________________________________________________________________________________________________\n"
          ],
          "name": "stdout"
        },
        {
          "output_type": "stream",
          "text": [
            "/usr/local/lib/python3.6/dist-packages/ipykernel_launcher.py:1: UserWarning: Update your `Model` call to the Keras 2 API: `Model(inputs=[<tf.Tenso..., outputs=Tensor(\"de...)`\n",
            "  \"\"\"Entry point for launching an IPython kernel.\n"
          ],
          "name": "stderr"
        }
      ]
    },
    {
      "cell_type": "code",
      "metadata": {
        "id": "e7LxbJgbKrQc",
        "colab_type": "code",
        "colab": {
          "base_uri": "https://localhost:8080/",
          "height": 901
        },
        "outputId": "091bda4e-7eff-45b7-fdef-a96a80e0325b"
      },
      "source": [
        "model.fit(x=[symptoms, diseases], y=labels, epochs=25, validation_split=0.1)"
      ],
      "execution_count": 27,
      "outputs": [
        {
          "output_type": "stream",
          "text": [
            "Train on 2160 samples, validate on 240 samples\n",
            "Epoch 1/25\n",
            "2160/2160 [==============================] - 0s 208us/step - loss: 0.0080 - acc: 1.0000 - val_loss: 1.4003 - val_acc: 0.6583\n",
            "Epoch 2/25\n",
            "2160/2160 [==============================] - 0s 123us/step - loss: 0.0059 - acc: 1.0000 - val_loss: 1.4489 - val_acc: 0.6542\n",
            "Epoch 3/25\n",
            "2160/2160 [==============================] - 0s 130us/step - loss: 0.0045 - acc: 1.0000 - val_loss: 1.4929 - val_acc: 0.6583\n",
            "Epoch 4/25\n",
            "2160/2160 [==============================] - 0s 109us/step - loss: 0.0035 - acc: 1.0000 - val_loss: 1.5351 - val_acc: 0.6583\n",
            "Epoch 5/25\n",
            "2160/2160 [==============================] - 0s 113us/step - loss: 0.0028 - acc: 1.0000 - val_loss: 1.5703 - val_acc: 0.6583\n",
            "Epoch 6/25\n",
            "2160/2160 [==============================] - 0s 120us/step - loss: 0.0023 - acc: 1.0000 - val_loss: 1.6056 - val_acc: 0.6583\n",
            "Epoch 7/25\n",
            "2160/2160 [==============================] - 0s 121us/step - loss: 0.0019 - acc: 1.0000 - val_loss: 1.6350 - val_acc: 0.6542\n",
            "Epoch 8/25\n",
            "2160/2160 [==============================] - 0s 108us/step - loss: 0.0016 - acc: 1.0000 - val_loss: 1.6645 - val_acc: 0.6542\n",
            "Epoch 9/25\n",
            "2160/2160 [==============================] - 0s 105us/step - loss: 0.0013 - acc: 1.0000 - val_loss: 1.6940 - val_acc: 0.6583\n",
            "Epoch 10/25\n",
            "2160/2160 [==============================] - 0s 125us/step - loss: 0.0011 - acc: 1.0000 - val_loss: 1.7173 - val_acc: 0.6583\n",
            "Epoch 11/25\n",
            "2160/2160 [==============================] - 0s 128us/step - loss: 9.6579e-04 - acc: 1.0000 - val_loss: 1.7405 - val_acc: 0.6583\n",
            "Epoch 12/25\n",
            "2160/2160 [==============================] - 0s 103us/step - loss: 8.3868e-04 - acc: 1.0000 - val_loss: 1.7628 - val_acc: 0.6583\n",
            "Epoch 13/25\n",
            "2160/2160 [==============================] - 0s 100us/step - loss: 7.3326e-04 - acc: 1.0000 - val_loss: 1.7832 - val_acc: 0.6583\n",
            "Epoch 14/25\n",
            "2160/2160 [==============================] - 0s 131us/step - loss: 6.4612e-04 - acc: 1.0000 - val_loss: 1.8038 - val_acc: 0.6542\n",
            "Epoch 15/25\n",
            "2160/2160 [==============================] - 0s 112us/step - loss: 5.7151e-04 - acc: 1.0000 - val_loss: 1.8229 - val_acc: 0.6542\n",
            "Epoch 16/25\n",
            "2160/2160 [==============================] - 0s 119us/step - loss: 5.0853e-04 - acc: 1.0000 - val_loss: 1.8415 - val_acc: 0.6500\n",
            "Epoch 17/25\n",
            "2160/2160 [==============================] - 0s 120us/step - loss: 4.5506e-04 - acc: 1.0000 - val_loss: 1.8581 - val_acc: 0.6500\n",
            "Epoch 18/25\n",
            "2160/2160 [==============================] - 0s 114us/step - loss: 4.0923e-04 - acc: 1.0000 - val_loss: 1.8741 - val_acc: 0.6500\n",
            "Epoch 19/25\n",
            "2160/2160 [==============================] - 0s 150us/step - loss: 3.6913e-04 - acc: 1.0000 - val_loss: 1.8916 - val_acc: 0.6458\n",
            "Epoch 20/25\n",
            "2160/2160 [==============================] - 0s 106us/step - loss: 3.3424e-04 - acc: 1.0000 - val_loss: 1.9062 - val_acc: 0.6458\n",
            "Epoch 21/25\n",
            "2160/2160 [==============================] - 0s 102us/step - loss: 3.0398e-04 - acc: 1.0000 - val_loss: 1.9209 - val_acc: 0.6458\n",
            "Epoch 22/25\n",
            "2160/2160 [==============================] - 0s 109us/step - loss: 2.7722e-04 - acc: 1.0000 - val_loss: 1.9355 - val_acc: 0.6458\n",
            "Epoch 23/25\n",
            "2160/2160 [==============================] - 0s 113us/step - loss: 2.5341e-04 - acc: 1.0000 - val_loss: 1.9488 - val_acc: 0.6458\n",
            "Epoch 24/25\n",
            "2160/2160 [==============================] - 0s 104us/step - loss: 2.3227e-04 - acc: 1.0000 - val_loss: 1.9644 - val_acc: 0.6458\n",
            "Epoch 25/25\n",
            "2160/2160 [==============================] - 0s 100us/step - loss: 2.1349e-04 - acc: 1.0000 - val_loss: 1.9761 - val_acc: 0.6458\n"
          ],
          "name": "stdout"
        },
        {
          "output_type": "execute_result",
          "data": {
            "text/plain": [
              "<keras.callbacks.History at 0x7f8bee5185f8>"
            ]
          },
          "metadata": {
            "tags": []
          },
          "execution_count": 27
        }
      ]
    },
    {
      "cell_type": "code",
      "metadata": {
        "id": "wvRnB-OuLDMC",
        "colab_type": "code",
        "colab": {}
      },
      "source": [
        "# get the new weights (embeddings) after running through keras\n",
        "new_vecs = model.layers[2].get_weights()[0]"
      ],
      "execution_count": 0,
      "outputs": []
    },
    {
      "cell_type": "code",
      "metadata": {
        "id": "T-AwAP70Np52",
        "colab_type": "code",
        "colab": {
          "base_uri": "https://localhost:8080/",
          "height": 102
        },
        "outputId": "a3c8df7c-8a5d-493d-fa30-a66f276beb61"
      },
      "source": [
        "similarity_score = 0.6\n",
        "\n",
        "d = pd.read_csv('/Dictionary.csv')\n",
        "dic = {}\n",
        "for i in d.index:\n",
        "  dic[d.Key.loc[i]] = d.Values.loc[i]\n",
        "\n",
        "symp = input('Enter symptom for which similar symptoms are to be found:')\n",
        "print('\\nThe similar symptoms are:')\n",
        "\n",
        "for i in set(symptom):\n",
        "  if (cosine_similarity(new_vecs[dic[i]],new_vecs[dic[symp]]))>similarity_score:\n",
        "    if i!=symp:\n",
        "      print(i)"
      ],
      "execution_count": 29,
      "outputs": [
        {
          "output_type": "stream",
          "text": [
            "Enter symptom for which similar symptoms are to be found:pain chest\n",
            "\n",
            "The similar symptoms are:\n",
            "sleeplessness\n",
            "rale\n"
          ],
          "name": "stdout"
        }
      ]
    },
    {
      "cell_type": "code",
      "metadata": {
        "id": "3DSBJRk-PMTM",
        "colab_type": "code",
        "colab": {}
      },
      "source": [
        ""
      ],
      "execution_count": 0,
      "outputs": []
    }
  ]
}